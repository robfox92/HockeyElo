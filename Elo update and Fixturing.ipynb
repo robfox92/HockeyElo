{
 "cells": [
  {
   "cell_type": "code",
   "execution_count": 1,
   "metadata": {
    "collapsed": false
   },
   "outputs": [],
   "source": [
    "import pandas as pd\n",
    "import re\n",
    "import numpy as np\n",
    "import warnings\n",
    "import datetime"
   ]
  },
  {
   "cell_type": "markdown",
   "metadata": {},
   "source": [
    "# Notes Chunk\n",
    "\n",
    "## To Do List:\n",
    "* Add fixturing method using graph processing\n",
    "\n",
    "   * Learn how to do this first\n",
    "\n",
    "* Add option to use one of the following fixturing methods:\n",
    "\n",
    "   * Graph processing\n",
    "    \n",
    "   * Method based on elo relative to mean - statistical method?\n",
    "\n",
    "* Add caching\n",
    "\n",
    "   * Needs to:\n",
    "    \n",
    "       * Check for the existence of a cache\n",
    "        \n",
    "       * If cache doesn't exist, create it\n",
    "        \n",
    "       * If cache does exist:\n",
    "        \n",
    "           * Check if the result is in the cache\n",
    "            \n",
    "           * If the result is in the cache, retrieve the result and don't process the game \"normally\"\n",
    "            \n",
    "   * Caching might have issues with teams playing games out of order?\n",
    "    \n",
    "   * Might need to write team elos and fixturing outcomes to the results sheet at the time of fixturing?\n",
    "    \n",
    "       * Maybe this doesn't matter?\n",
    "        \n"
   ]
  },
  {
   "cell_type": "code",
   "execution_count": 2,
   "metadata": {
    "collapsed": true
   },
   "outputs": [],
   "source": [
    "#################################### OPTIONS CHUNK ####################################\n",
    "#################################### OPTIONS CHUNK ####################################\n",
    "#################################### OPTIONS CHUNK ####################################\n",
    "#################################### OPTIONS CHUNK ####################################\n",
    "#################################### OPTIONS CHUNK ####################################\n",
    "\n",
    "# Usecache - process results and cache them\n",
    "#    Caching needs to be properly implemented\n",
    "usecache = False\n",
    "\n",
    "# Process results - probably don't touch this?\n",
    "processresults = True\n",
    "\n",
    "# Warnings from pandas keep appearing\n",
    "# Warning me that value is trying to be set on a copy of a slice from a DataFrame\n",
    "# Not sure why the warnings are being passed \n",
    "suppress_warnings = True\n",
    "\n",
    "# Dead teams - the teams that do not exist any more - add them to the list\n",
    "deadteams = ['The Swanbourne Supremacy','']\n",
    "\n",
    "# Fixture teams - only mark false if you don't want to fixture the teams\n",
    "fixtureteams = True\n",
    "\n",
    "# Lots of text output if this is True - mainly for monitoring and testing\n",
    "# Reporttime for timing - you can say verbose = False and reporttime = True if you only want to see the\n",
    "# runtime of the script\n",
    "verbose = True\n",
    "reporttime = True"
   ]
  },
  {
   "cell_type": "code",
   "execution_count": 3,
   "metadata": {
    "collapsed": false
   },
   "outputs": [],
   "source": [
    "# Misc pre-work\n",
    "if suppress_warnings:\n",
    "    warnings.filterwarnings('ignore')\n",
    "\n",
    "# Timing stuff    \n",
    "starttime = datetime.datetime.now()\n",
    "resultsfinish = False\n",
    "fixturingfinish = False"
   ]
  },
  {
   "cell_type": "code",
   "execution_count": 4,
   "metadata": {
    "collapsed": false
   },
   "outputs": [],
   "source": [
    "mens_mixed_url = 'https://docs.google.com/spreadsheets/d/15TNjIJDkopneZ6PWg4IGhTQNvTl-T5U8u_i9zgJPEXA/export?format=csv&id=15TNjIJDkopneZ6PWg4IGhTQNvTl-T5U8u_i9zgJPEXA&gid=0'\n",
    "elos_workbook = 'https://raw.githubusercontent.com/robfox92/HockeyElo/master/Elos_2016b_week_1.csv'\n",
    "requests_sheet_url = 'https://docs.google.com/spreadsheets/d/15TNjIJDkopneZ6PWg4IGhTQNvTl-T5U8u_i9zgJPEXA/export?format=csv&id=15TNjIJDkopneZ6PWg4IGhTQNvTl-T5U8u_i9zgJPEXA&gid=2236421'\n",
    "\n",
    "if usecache:\n",
    "    cached_games=pd.read_csv('processed results.csv')\n",
    "    \n",
    "    \n",
    "mens_mixed_raw = pd.read_csv(mens_mixed_url)\n",
    "elos_start_raw = pd.read_csv(elos_workbook)\n",
    "games_requested = pd.read_csv(requests_sheet_url)"
   ]
  },
  {
   "cell_type": "code",
   "execution_count": 5,
   "metadata": {
    "collapsed": false
   },
   "outputs": [],
   "source": [
    "def removepunct(str_in):\n",
    "    for n in [\".\",\",\",\"!\",\"'\",'\"','\\n','-']:\n",
    "        str_in = str_in.replace(n,'')\n",
    "    \n",
    "    str_out = str_in.lower()\n",
    "    return unicode(str_out)\n",
    "\n",
    "def parse_round(x):\n",
    "    y = None\n",
    "    parsed = None\n",
    "    if type(x) == str:\n",
    "        parsed = re.search(r'([0-9]+)+',x).group(1)\n",
    "        y = int(parsed)\n",
    "    if (type(x) == int) or (type(x) == float):\n",
    "        y = int(x)\n",
    "    return y\n",
    "\n",
    "def getKfactor(x):\n",
    "        newteam = 'New Team'\n",
    "        newteamK = 75\n",
    "        oldteamK = 50\n",
    "        if x == newteam:\n",
    "            out = newteamK\n",
    "        else:\n",
    "            out = oldteamK\n",
    "        return out"
   ]
  },
  {
   "cell_type": "code",
   "execution_count": 6,
   "metadata": {
    "collapsed": true
   },
   "outputs": [],
   "source": [
    "# Create game codes\n",
    "mens_mixed_raw['Game Code'] = mens_mixed_raw['HOME'] + \" vs \" + mens_mixed_raw['AWAY']\n",
    "playedgames = mens_mixed_raw['Game Code'].unique()\n",
    "hometeams = mens_mixed_raw['HOME'].apply(removepunct).unique()"
   ]
  },
  {
   "cell_type": "code",
   "execution_count": 7,
   "metadata": {
    "collapsed": false
   },
   "outputs": [],
   "source": [
    "# Only get results that are validated\n",
    "results = mens_mixed_raw[mens_mixed_raw['Validate'] == 'Y']\n",
    "results['Round_number'] = results['ROUND'].apply(parse_round)\n",
    "results['HOME'] = results['HOME'].apply(removepunct)\n",
    "results['AWAY'] = results['AWAY'].apply(removepunct)\n",
    "results['Game Code'] = results['Game Code'].apply(removepunct)\n",
    "results.reset_index(inplace=True)"
   ]
  },
  {
   "cell_type": "code",
   "execution_count": 8,
   "metadata": {
    "collapsed": true
   },
   "outputs": [],
   "source": [
    "team_elos = elos_start_raw\n",
    "team_elos['2016b Teams lower'] = elos_start_raw['2016b Teams'].apply(removepunct)\n",
    "elos_dict = dict(zip(team_elos['2016b Teams lower'],team_elos['Starting Elo']))\n",
    "team_elos['K Factor'] = team_elos['New Team'].apply(getKfactor)\n",
    "team_K_factors = dict(zip(team_elos['2016b Teams lower'],team_elos['K Factor']))"
   ]
  },
  {
   "cell_type": "code",
   "execution_count": 9,
   "metadata": {
    "collapsed": false
   },
   "outputs": [],
   "source": [
    "results['Home Elo'] = None\n",
    "results['Away Elo'] = None\n",
    "elos_dict = dict(zip(team_elos['2016b Teams lower'],team_elos['Starting Elo']))"
   ]
  },
  {
   "cell_type": "code",
   "execution_count": 10,
   "metadata": {
    "collapsed": false
   },
   "outputs": [],
   "source": [
    "if usecache:\n",
    "    processedgames = cached_games['Game Code'].unique()"
   ]
  },
  {
   "cell_type": "code",
   "execution_count": 11,
   "metadata": {
    "collapsed": false
   },
   "outputs": [
    {
     "name": "stdout",
     "output_type": "stream",
     "text": [
      "Beginning processing of results\n",
      "Not using cache - this may slow down the processing\n",
      "50 results processed\n",
      "100 results processed\n",
      "150 results processed\n",
      "200 results processed\n",
      "250 results processed\n",
      "300 results processed\n",
      "350 results processed\n",
      "400 results processed\n",
      "450 results processed\n",
      "500 results processed\n",
      "550 results processed\n",
      "\n",
      "565 total games processed\n",
      " Processing complete\n"
     ]
    }
   ],
   "source": [
    "if verbose:\n",
    "    print \"Beginning processing of results\"\n",
    "    if usecache:\n",
    "        print \"Using cache to avoid repeating result processing\"\n",
    "    if not usecache:\n",
    "        print \"Not using cache - this may slow down the processing\"\n",
    "#%%timeit -n 1 -r 1\n",
    "team_elos_df = pd.DataFrame.from_dict(elos_dict,orient='index')\n",
    "if processresults:\n",
    "    for row in range(0,len(results)):\n",
    "        if row%50 == 0 and row != 0 and verbose: print row,'results processed'\n",
    "        # Get the home and away teams\n",
    "        hometeam = results['HOME'][row]\n",
    "        awayteam = results['AWAY'][row]\n",
    "        \n",
    "        # Check if the game has been processed previously\n",
    "        if usecache:\n",
    "            gamecode = results.loc[row,'Game Code']\n",
    "            if gamecode in processedgames:\n",
    "            # Grab the row from the cache\n",
    "                ref = cached_games[cached_games['Game Code'] == gamecode].index.tolist()\n",
    "                results.loc[row,] = cached_games.loc[ref,]\n",
    "            \n",
    "        else:\n",
    "            # Get the elos from the elo dictionary\n",
    "            awayElo = elos_dict[awayteam]\n",
    "            homeElo = elos_dict[hometeam]\n",
    "            # Write to the df\n",
    "            results.loc[row,'Home Elo'] = homeElo\n",
    "            results.loc[row,'Away Elo'] = awayElo\n",
    "                \n",
    "            roundnumber = results.loc[row,'Round_number']\n",
    "            homeK = 50\n",
    "            awayK = 50\n",
    "            if type(roundnumber) != str and roundnumber < 4:\n",
    "                # Get the team K factors\n",
    "                homeK = team_K_factors[hometeam]\n",
    "                awayK = team_K_factors[awayteam]\n",
    "            \n",
    "    \n",
    "            \n",
    "            \n",
    "            \n",
    "            # Calculate the Score Expectancies\n",
    "            homeSE = 1 / (1 + 10 ** -((homeElo - awayElo) / 400))\n",
    "            awaySE = 1 / (1 + 10 ** ((homeElo - awayElo) / 400))\n",
    "            # Write to DF\n",
    "            results.loc[row,'Home Predicted Result'] = homeSE\n",
    "            results.loc[row,'Away Predicted Result'] = awaySE\n",
    "        \n",
    "        \n",
    "            # Get home, away and total scores\n",
    "            homescore = results['SCORE'][row]\n",
    "            awayscore = results['SCORE.1'][row]\n",
    "            totalscore = homescore+awayscore\n",
    "        \n",
    "            # Calculate home and away score percentages\n",
    "            homeScorePerc = homescore / totalscore\n",
    "            awayScorePerc = awayscore / totalscore\n",
    "            # Write to DF\n",
    "            results.loc[row,'Home Actual Result'] = homeScorePerc\n",
    "            results.loc[row,'Away Actual Result'] = awayScorePerc\n",
    "\n",
    "            # Find Elo Changes\n",
    "            homeNewElo = homeElo + homeK * (homeScorePerc - homeSE)\n",
    "            awayNewElo = awayElo + awayK * (awayScorePerc - awaySE)\n",
    "\n",
    "            # Check to ensure winning teams don't lose Elo\n",
    "            if homescore > awayscore:\n",
    "                homeNewElo = max(homeNewElo,homeElo)\n",
    "            if awayscore > homescore:\n",
    "                awayNewElo = max(awayNewElo,awayElo)\n",
    "\n",
    "            newElos = {hometeam:homeNewElo, awayteam:awayNewElo}\n",
    "\n",
    "            elos_dict.update(newElos)\n",
    "            \n",
    "    resultsfinish = datetime.datetime.now()\n",
    "    \n",
    "if verbose:print '\\n',len(results),'total games processed\\n\\nProcessing complete'            "
   ]
  },
  {
   "cell_type": "code",
   "execution_count": 12,
   "metadata": {
    "collapsed": false
   },
   "outputs": [],
   "source": [
    "elos_df = pd.DataFrame(elos_dict.items())\n",
    "elos_df.columns = ['Team','Elo']\n",
    "mean_elo = np.mean(elos_df['Elo'])\n",
    "elos_df['Relative Elo'] = abs(elos_df['Elo']-mean_elo)\n",
    "elos_df.sort_values(by='Relative Elo',ascending=False,inplace=True)\n",
    "elos_df.reset_index(inplace=True)\n",
    "del elos_df['index']\n",
    "elos_df['Relative to Mean'] = (elos_df['Elo']-mean_elo)/elos_df['Relative Elo']\n",
    "\n",
    "games_df = pd.DataFrame()\n",
    "games_df['Team A'] = None\n",
    "games_df['Team B'] = None\n",
    "games_df.head();"
   ]
  },
  {
   "cell_type": "code",
   "execution_count": 13,
   "metadata": {
    "collapsed": false
   },
   "outputs": [],
   "source": [
    "allteams = elos_df['Team'].unique()\n",
    "deadteams = set(deadteams)\n",
    "for team in deadteams:\n",
    "    oldname = team\n",
    "    newname = removepunct(team)\n",
    "    deadteams = deadteams - {oldname}\n",
    "    deadteams = deadteams | {newname}\n",
    "\n",
    "currentteams = set(allteams) - deadteams"
   ]
  },
  {
   "cell_type": "code",
   "execution_count": 14,
   "metadata": {
    "collapsed": true
   },
   "outputs": [],
   "source": [
    "elos_df_allteams = elos_df\n",
    "elos_df = elos_df.ix[elos_df['Team'].isin(currentteams)]\n",
    "elos_df.reset_index(inplace=True)\n",
    "del elos_df['index']"
   ]
  },
  {
   "cell_type": "code",
   "execution_count": 15,
   "metadata": {
    "collapsed": false
   },
   "outputs": [
    {
     "name": "stdout",
     "output_type": "stream",
     "text": [
      "Beginning fixturing of teams\n",
      "\n",
      "\n",
      "Fixturing complete\n"
     ]
    }
   ],
   "source": [
    "if fixtureteams:\n",
    "    if verbose:print \"Beginning fixturing of teams\"\n",
    "#    %%timeit -n 1 -r 1\n",
    "    byeteam = ''\n",
    "    if len(elos_df)%2 == 1:\n",
    "        byeteam = removepunct(raw_input('Enter the Bye Team:\\n'))\n",
    "    \n",
    "    \n",
    "    games_df = pd.DataFrame()\n",
    "    games_df['Team A'] = None\n",
    "    games_df['Team B'] = None\n",
    "    \n",
    "    # Process the requested games here\n",
    "    \n",
    "    games_requested['Team 1'] = games_requested['Team 1'].apply(removepunct)\n",
    "    games_requested['Team 2'] = games_requested['Team 2'].apply(removepunct)\n",
    "    games_requested['Game Code 1'] = games_requested['Team 1'] + \" vs \" + games_requested['Team 2']\n",
    "    games_requested['Game Code 2'] = games_requested['Team 2'] + \" vs \" + games_requested['Team 1']\n",
    "    \n",
    "    for row in range(0,len(games_requested)):\n",
    "        team1 = games_requested.loc[row,'Team 1']\n",
    "        team2 = games_requested.loc[row,'Team 2']\n",
    "        code1 = games_requested.loc[row,'Game Code 1']\n",
    "        code2 = games_requested.loc[row,'Game Code 2']\n",
    "        \n",
    "        # Check if the teams have been fixtured this round\n",
    "        # Check if the teams have played each other yet\n",
    "        # Check if either team has been fixtured to have the bye this week\n",
    "        if (\n",
    "            team1 not in games_df['Team A'].unique() and team1 not in games_df['Team B'].unique() and\n",
    "            team2 not in games_df['Team A'].unique() and team2 not in games_df['Team B'].unique() and\n",
    "            code1 not in playedgames and \n",
    "            code2 not in playedgames and\n",
    "            team1 != byeteam and \n",
    "            team2 != byeteam\n",
    "            ):\n",
    "                relevantrow = len(games_df)\n",
    "                games_df.loc[relevantrow,'Team A'] = team1\n",
    "                games_df.loc[relevantrow,'Team B'] = team2\n",
    "                games_df.loc[relevantrow,'A Elo'] = elos_dict[team1]\n",
    "                games_df.loc[relevantrow,'B Elo'] = elos_dict[team2]\n",
    "    \n",
    "    \n",
    "    # Fixture the rest of the games based on relative elo\n",
    "    #    Teams further from the mean elo are fixtured before teams closer to the mean elo\n",
    "    \n",
    "    for row in range(0,len(elos_df)):\n",
    "        \n",
    "        # Grab the team name, check to see if they've been fixtured yet\n",
    "        team = elos_df.loc[row,'Team']\n",
    "        team_fixtured = (team in games_df['Team A'].unique()) or (team in games_df['Team B'].unique()) or (team == byeteam)\n",
    "        # Grab the elo and their position relative to the mean\n",
    "        team_elo = elos_df.loc[row,'Elo']\n",
    "        rel = elos_df.loc[row,'Relative to Mean']\n",
    "        if rel == 1:\n",
    "            team_below_mean = False\n",
    "        if rel == -1:\n",
    "            team_below_mean = True\n",
    "        #else:\n",
    "            #print \"Error in calculating team's elo relative to the mean\\nPlease check the team entry in elos_df\"\n",
    "            #team_below_mean = None\n",
    "        # If they haven't, fixture them to the nearest possible game\n",
    "        if not team_fixtured:\n",
    "            elos_df_by_elo = elos_df.sort_values(by='Elo',ascending = team_below_mean)\n",
    "            \n",
    "            game_fixtured = False\n",
    "            roww = 0\n",
    "            while (not game_fixtured and roww < len(elos_df)-1):\n",
    "                # Grab a potential team\n",
    "                possibleteam = elos_df_by_elo.loc[roww,'Team']\n",
    "                # Check to see if they are the same, and that possible team has not been fixtured already\n",
    "                if (possibleteam!=team and\n",
    "                    (possibleteam not in games_df['Team A'].unique()) and\n",
    "                    (possibleteam not in games_df['Team B'].unique()) and\n",
    "                    (possibleteam != byeteam) and\n",
    "                    (abs(elos_dict[team]-elos_dict[possibleteam])<100)\n",
    "                   ):\n",
    "                    # Generate two game codes\n",
    "                    gamecode1 = possibleteam + \" vs \" + team\n",
    "                    gamecode2 = team + \" vs \" + possibleteam\n",
    "                    \n",
    "                    if gamecode1 not in playedgames and gamecode2 not in playedgames:\n",
    "                        relevantrow = len(games_df)\n",
    "                        games_df.loc[relevantrow,'Team A'] = team\n",
    "                        games_df.loc[relevantrow,'Team B'] = possibleteam\n",
    "                        games_df.loc[relevantrow,'A Elo'] = elos_dict[team]\n",
    "                        games_df.loc[relevantrow,'B Elo'] = elos_dict[possibleteam]        \n",
    "                        \n",
    "                        game_fixtured = True\n",
    "                    else: roww = roww+1\n",
    "                else: roww = roww+1\n",
    "    \n",
    "    \n",
    "                    \n",
    "    for team in currentteams:\n",
    "        teamInA = team in games_df['Team A'].unique()\n",
    "        teamInB = team in games_df['Team B'].unique()\n",
    "        teamfixtured = teamInA or teamInB\n",
    "        if not teamfixtured and verbose:\n",
    "            if team != byeteam:\n",
    "                print team,'has not been fixtured'\n",
    "            elif team == byeteam:\n",
    "                print team,'was the bye team this round and has not been fixtured'\n",
    "                    \n",
    "    games_df.reset_index(inplace = True)\n",
    "    del games_df['index']\n",
    "    if verbose:print \"\\n\\nFixturing complete\""
   ]
  },
  {
   "cell_type": "code",
   "execution_count": 16,
   "metadata": {
    "collapsed": false
   },
   "outputs": [],
   "source": [
    "if fixtureteams:\n",
    "    games_df['Elo Diff'] = games_df['A Elo'] - games_df['B Elo']"
   ]
  },
  {
   "cell_type": "code",
   "execution_count": 17,
   "metadata": {
    "collapsed": false
   },
   "outputs": [],
   "source": [
    "if fixtureteams:\n",
    "#    %%timeit -n 1 -r 1\n",
    "    # Work out who is playing at home\n",
    "    for row in range(0,len(games_df)):\n",
    "        teamA = games_df.loc[row,'Team A']\n",
    "        teamB = games_df.loc[row,'Team B']\n",
    "        teamAhome = len(hometeams[hometeams == teamA])\n",
    "        teamBhome = len(hometeams[hometeams == teamB])\n",
    "        \n",
    "        if teamAhome > teamBhome:\n",
    "            games_df.loc[row,'Home'] = teamB\n",
    "            games_df.loc[row,'Away'] = teamA\n",
    "        else:\n",
    "            games_df.loc[row,'Home'] = teamA\n",
    "            games_df.loc[row,'Away'] = teamB\n",
    "        \n",
    "        games_df.loc[row,'Game Code'] = games_df.loc[row,'Home'] + \" vs \" + games_df.loc[row,'Away']\n",
    "        #print games_df.loc[row,'Game Code']\n",
    "        \n",
    "    fixturingfinish = datetime.datetime.now()"
   ]
  },
  {
   "cell_type": "code",
   "execution_count": 18,
   "metadata": {
    "collapsed": false
   },
   "outputs": [
    {
     "name": "stdout",
     "output_type": "stream",
     "text": [
      "It took 0:01:53.449000 to process the results\n",
      "It took 0:00:01.518000 to fixture the teams\n",
      "It took 0:01:54.967000 in total to run this script\n"
     ]
    }
   ],
   "source": [
    "if verbose or reporttime:\n",
    "    if resultsfinish:\n",
    "        resultstime = resultsfinish - starttime\n",
    "        print \"It took\",resultstime,'to process the results'\n",
    "    if fixturingfinish and resultsfinish:\n",
    "        fixturetime = fixturingfinish - resultsfinish\n",
    "        print \"It took\",fixturetime,'to fixture the teams'\n",
    "    if fixturingfinish:\n",
    "        totaltime = fixturingfinish  - starttime\n",
    "        print \"It took\",totaltime,'in total to run this script'\n"
   ]
  },
  {
   "cell_type": "code",
   "execution_count": null,
   "metadata": {
    "collapsed": false
   },
   "outputs": [],
   "source": []
  },
  {
   "cell_type": "code",
   "execution_count": null,
   "metadata": {
    "collapsed": true
   },
   "outputs": [],
   "source": []
  }
 ],
 "metadata": {
  "anaconda-cloud": {},
  "kernelspec": {
   "display_name": "Python [Root]",
   "language": "python",
   "name": "Python [Root]"
  },
  "language_info": {
   "codemirror_mode": {
    "name": "ipython",
    "version": 2
   },
   "file_extension": ".py",
   "mimetype": "text/x-python",
   "name": "python",
   "nbconvert_exporter": "python",
   "pygments_lexer": "ipython2",
   "version": "2.7.12"
  },
  "notify_time": "5"
 },
 "nbformat": 4,
 "nbformat_minor": 0
}
