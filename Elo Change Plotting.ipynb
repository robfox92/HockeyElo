{
 "cells": [
  {
   "cell_type": "code",
   "execution_count": 111,
   "metadata": {
    "collapsed": true
   },
   "outputs": [],
   "source": [
    "import pandas as pd\n",
    "import re\n",
    "\n",
    "import matplotlib.pyplot as plt\n",
    "%matplotlib inline"
   ]
  },
  {
   "cell_type": "code",
   "execution_count": 41,
   "metadata": {
    "collapsed": false
   },
   "outputs": [],
   "source": [
    "def removepunct(str_in):\n",
    "    for n in [\".\",\",\",\"!\",\"'\",'\"','\\n','-']:\n",
    "        str_in = str_in.replace(n,'')\n",
    "    \n",
    "    str_out = str_in.lower()\n",
    "    return unicode(str_out)"
   ]
  },
  {
   "cell_type": "code",
   "execution_count": 123,
   "metadata": {
    "collapsed": false
   },
   "outputs": [],
   "source": [
    "def parse_round(x):\n",
    "    y = None\n",
    "    parsed = None\n",
    "    if type(x) == str:\n",
    "        parsed = re.search(r'([0-9]+)+',x).group(1)\n",
    "        y = int(parsed)\n",
    "    if (type(x) == int) or (type(x) == float):\n",
    "        y = int(x)\n",
    "    return y"
   ]
  },
  {
   "cell_type": "code",
   "execution_count": 124,
   "metadata": {
    "collapsed": false
   },
   "outputs": [],
   "source": [
    "mens_mixed_url = 'https://docs.google.com/spreadsheets/d/15TNjIJDkopneZ6PWg4IGhTQNvTl-T5U8u_i9zgJPEXA/export?format=csv&id=15TNjIJDkopneZ6PWg4IGhTQNvTl-T5U8u_i9zgJPEXA&gid=0'\n",
    "elos_workbook = 'https://raw.githubusercontent.com/robfox92/HockeyElo/master/Elos_2016b_week_1.csv'\n",
    "\n",
    "\n",
    "mens_mixed_raw = pd.read_csv(mens_mixed_url)\n",
    "elos_start_raw = pd.read_csv(elos_workbook)"
   ]
  },
  {
   "cell_type": "code",
   "execution_count": 125,
   "metadata": {
    "collapsed": false
   },
   "outputs": [],
   "source": [
    "# Only get results that are validated\n",
    "results = mens_mixed_raw[mens_mixed_raw['Validate'] == 'Y']\n",
    "results.reset_index(inplace=True)"
   ]
  },
  {
   "cell_type": "code",
   "execution_count": 126,
   "metadata": {
    "collapsed": false
   },
   "outputs": [
    {
     "name": "stderr",
     "output_type": "stream",
     "text": [
      "C:\\Anaconda2\\lib\\site-packages\\ipykernel\\__main__.py:1: SettingWithCopyWarning: \n",
      "A value is trying to be set on a copy of a slice from a DataFrame.\n",
      "Try using .loc[row_indexer,col_indexer] = value instead\n",
      "\n",
      "See the caveats in the documentation: http://pandas.pydata.org/pandas-docs/stable/indexing.html#indexing-view-versus-copy\n",
      "  if __name__ == '__main__':\n"
     ]
    },
    {
     "data": {
      "text/html": [
       "<div>\n",
       "<table border=\"1\" class=\"dataframe\">\n",
       "  <thead>\n",
       "    <tr style=\"text-align: right;\">\n",
       "      <th></th>\n",
       "      <th>index</th>\n",
       "      <th>ROUND</th>\n",
       "      <th>HOME</th>\n",
       "      <th>SCORE</th>\n",
       "      <th>SCORE.1</th>\n",
       "      <th>AWAY</th>\n",
       "      <th>OT</th>\n",
       "      <th>Validate</th>\n",
       "      <th>H_Win</th>\n",
       "      <th>A_Win</th>\n",
       "      <th>H_Tie</th>\n",
       "      <th>A_Tie</th>\n",
       "      <th>H_OTL</th>\n",
       "      <th>A_OTL</th>\n",
       "      <th>H_Loss</th>\n",
       "      <th>A_Loss</th>\n",
       "      <th>Round_number</th>\n",
       "    </tr>\n",
       "  </thead>\n",
       "  <tbody>\n",
       "    <tr>\n",
       "      <th>0</th>\n",
       "      <td>0</td>\n",
       "      <td>1</td>\n",
       "      <td>The SwanBourne Supremacy</td>\n",
       "      <td>14.0</td>\n",
       "      <td>12.0</td>\n",
       "      <td>Balcatta Bandits</td>\n",
       "      <td>NaN</td>\n",
       "      <td>Y</td>\n",
       "      <td>W</td>\n",
       "      <td>NaN</td>\n",
       "      <td>NaN</td>\n",
       "      <td>NaN</td>\n",
       "      <td>NaN</td>\n",
       "      <td>NaN</td>\n",
       "      <td>NaN</td>\n",
       "      <td>L</td>\n",
       "      <td>1</td>\n",
       "    </tr>\n",
       "    <tr>\n",
       "      <th>1</th>\n",
       "      <td>2</td>\n",
       "      <td>1</td>\n",
       "      <td>Belmontgomery Burns</td>\n",
       "      <td>12.0</td>\n",
       "      <td>7.0</td>\n",
       "      <td>C. Montgomery Cockburns</td>\n",
       "      <td>NaN</td>\n",
       "      <td>Y</td>\n",
       "      <td>W</td>\n",
       "      <td>NaN</td>\n",
       "      <td>NaN</td>\n",
       "      <td>NaN</td>\n",
       "      <td>NaN</td>\n",
       "      <td>NaN</td>\n",
       "      <td>NaN</td>\n",
       "      <td>L</td>\n",
       "      <td>1</td>\n",
       "    </tr>\n",
       "    <tr>\n",
       "      <th>2</th>\n",
       "      <td>3</td>\n",
       "      <td>1</td>\n",
       "      <td>Bicton Banter Lords</td>\n",
       "      <td>15.0</td>\n",
       "      <td>5.0</td>\n",
       "      <td>Morley Puck Troopers</td>\n",
       "      <td>NaN</td>\n",
       "      <td>Y</td>\n",
       "      <td>W</td>\n",
       "      <td>NaN</td>\n",
       "      <td>NaN</td>\n",
       "      <td>NaN</td>\n",
       "      <td>NaN</td>\n",
       "      <td>NaN</td>\n",
       "      <td>NaN</td>\n",
       "      <td>L</td>\n",
       "      <td>1</td>\n",
       "    </tr>\n",
       "    <tr>\n",
       "      <th>3</th>\n",
       "      <td>5</td>\n",
       "      <td>1</td>\n",
       "      <td>Greenmount Doom</td>\n",
       "      <td>17.0</td>\n",
       "      <td>7.0</td>\n",
       "      <td>Bayswater Croquet Club</td>\n",
       "      <td>NaN</td>\n",
       "      <td>Y</td>\n",
       "      <td>W</td>\n",
       "      <td>NaN</td>\n",
       "      <td>NaN</td>\n",
       "      <td>NaN</td>\n",
       "      <td>NaN</td>\n",
       "      <td>NaN</td>\n",
       "      <td>NaN</td>\n",
       "      <td>L</td>\n",
       "      <td>1</td>\n",
       "    </tr>\n",
       "    <tr>\n",
       "      <th>4</th>\n",
       "      <td>6</td>\n",
       "      <td>1</td>\n",
       "      <td>Swan View Draught</td>\n",
       "      <td>7.0</td>\n",
       "      <td>5.0</td>\n",
       "      <td>Morley Flying Hellfish</td>\n",
       "      <td>NaN</td>\n",
       "      <td>Y</td>\n",
       "      <td>W</td>\n",
       "      <td>NaN</td>\n",
       "      <td>NaN</td>\n",
       "      <td>NaN</td>\n",
       "      <td>NaN</td>\n",
       "      <td>NaN</td>\n",
       "      <td>NaN</td>\n",
       "      <td>L</td>\n",
       "      <td>1</td>\n",
       "    </tr>\n",
       "  </tbody>\n",
       "</table>\n",
       "</div>"
      ],
      "text/plain": [
       "   index ROUND                      HOME  SCORE  SCORE.1  \\\n",
       "0      0     1  The SwanBourne Supremacy   14.0     12.0   \n",
       "1      2     1       Belmontgomery Burns   12.0      7.0   \n",
       "2      3     1       Bicton Banter Lords   15.0      5.0   \n",
       "3      5     1           Greenmount Doom   17.0      7.0   \n",
       "4      6     1         Swan View Draught    7.0      5.0   \n",
       "\n",
       "                      AWAY   OT Validate H_Win A_Win H_Tie A_Tie H_OTL A_OTL  \\\n",
       "0         Balcatta Bandits  NaN        Y     W   NaN   NaN   NaN   NaN   NaN   \n",
       "1  C. Montgomery Cockburns  NaN        Y     W   NaN   NaN   NaN   NaN   NaN   \n",
       "2     Morley Puck Troopers  NaN        Y     W   NaN   NaN   NaN   NaN   NaN   \n",
       "3   Bayswater Croquet Club  NaN        Y     W   NaN   NaN   NaN   NaN   NaN   \n",
       "4   Morley Flying Hellfish  NaN        Y     W   NaN   NaN   NaN   NaN   NaN   \n",
       "\n",
       "  H_Loss A_Loss  Round_number  \n",
       "0    NaN      L             1  \n",
       "1    NaN      L             1  \n",
       "2    NaN      L             1  \n",
       "3    NaN      L             1  \n",
       "4    NaN      L             1  "
      ]
     },
     "execution_count": 126,
     "metadata": {},
     "output_type": "execute_result"
    }
   ],
   "source": [
    "results['Round_number'] = results['ROUND'].apply(parse_round)\n",
    "results.head()"
   ]
  },
  {
   "cell_type": "code",
   "execution_count": 127,
   "metadata": {
    "collapsed": false
   },
   "outputs": [
    {
     "name": "stderr",
     "output_type": "stream",
     "text": [
      "C:\\Anaconda2\\lib\\site-packages\\ipykernel\\__main__.py:1: SettingWithCopyWarning: \n",
      "A value is trying to be set on a copy of a slice from a DataFrame.\n",
      "Try using .loc[row_indexer,col_indexer] = value instead\n",
      "\n",
      "See the caveats in the documentation: http://pandas.pydata.org/pandas-docs/stable/indexing.html#indexing-view-versus-copy\n",
      "  if __name__ == '__main__':\n",
      "C:\\Anaconda2\\lib\\site-packages\\ipykernel\\__main__.py:2: SettingWithCopyWarning: \n",
      "A value is trying to be set on a copy of a slice from a DataFrame.\n",
      "Try using .loc[row_indexer,col_indexer] = value instead\n",
      "\n",
      "See the caveats in the documentation: http://pandas.pydata.org/pandas-docs/stable/indexing.html#indexing-view-versus-copy\n",
      "  from ipykernel import kernelapp as app\n"
     ]
    }
   ],
   "source": [
    "results['HOME'] = results['HOME'].apply(removepunct)\n",
    "results['AWAY'] = results['AWAY'].apply(removepunct)"
   ]
  },
  {
   "cell_type": "code",
   "execution_count": null,
   "metadata": {
    "collapsed": false
   },
   "outputs": [],
   "source": []
  },
  {
   "cell_type": "code",
   "execution_count": 128,
   "metadata": {
    "collapsed": false
   },
   "outputs": [],
   "source": [
    " def getKfactor(x):\n",
    "        newteam = 'New Team'\n",
    "        newteamK = 75\n",
    "        oldteamK = 50\n",
    "        if x == newteam:\n",
    "            out = newteamK\n",
    "        else:\n",
    "            out = oldteamK\n",
    "        return out\n",
    "\n",
    "team_elos['K Factor'] = team_elos['New Team'].apply(getKfactor)\n",
    "team_K_factors = dict(zip(team_elos['2016b Teams lower'],team_elos['K Factor']))"
   ]
  },
  {
   "cell_type": "code",
   "execution_count": 129,
   "metadata": {
    "collapsed": false
   },
   "outputs": [],
   "source": [
    "results.loc[:,'Home Elo'] = None\n",
    "results.loc[:,'Away Elo'] = None"
   ]
  },
  {
   "cell_type": "code",
   "execution_count": 130,
   "metadata": {
    "collapsed": false
   },
   "outputs": [
    {
     "data": {
      "text/html": [
       "<div>\n",
       "<table border=\"1\" class=\"dataframe\">\n",
       "  <thead>\n",
       "    <tr style=\"text-align: right;\">\n",
       "      <th></th>\n",
       "      <th>index</th>\n",
       "      <th>ROUND</th>\n",
       "      <th>HOME</th>\n",
       "      <th>SCORE</th>\n",
       "      <th>SCORE.1</th>\n",
       "      <th>AWAY</th>\n",
       "      <th>OT</th>\n",
       "      <th>Validate</th>\n",
       "      <th>H_Win</th>\n",
       "      <th>A_Win</th>\n",
       "      <th>H_Tie</th>\n",
       "      <th>A_Tie</th>\n",
       "      <th>H_OTL</th>\n",
       "      <th>A_OTL</th>\n",
       "      <th>H_Loss</th>\n",
       "      <th>A_Loss</th>\n",
       "      <th>Round_number</th>\n",
       "      <th>Home Elo</th>\n",
       "      <th>Away Elo</th>\n",
       "    </tr>\n",
       "  </thead>\n",
       "  <tbody>\n",
       "    <tr>\n",
       "      <th>0</th>\n",
       "      <td>0</td>\n",
       "      <td>1</td>\n",
       "      <td>the swanbourne supremacy</td>\n",
       "      <td>14.0</td>\n",
       "      <td>12.0</td>\n",
       "      <td>balcatta bandits</td>\n",
       "      <td>NaN</td>\n",
       "      <td>Y</td>\n",
       "      <td>W</td>\n",
       "      <td>NaN</td>\n",
       "      <td>NaN</td>\n",
       "      <td>NaN</td>\n",
       "      <td>NaN</td>\n",
       "      <td>NaN</td>\n",
       "      <td>NaN</td>\n",
       "      <td>L</td>\n",
       "      <td>1</td>\n",
       "      <td>None</td>\n",
       "      <td>None</td>\n",
       "    </tr>\n",
       "    <tr>\n",
       "      <th>1</th>\n",
       "      <td>2</td>\n",
       "      <td>1</td>\n",
       "      <td>belmontgomery burns</td>\n",
       "      <td>12.0</td>\n",
       "      <td>7.0</td>\n",
       "      <td>c montgomery cockburns</td>\n",
       "      <td>NaN</td>\n",
       "      <td>Y</td>\n",
       "      <td>W</td>\n",
       "      <td>NaN</td>\n",
       "      <td>NaN</td>\n",
       "      <td>NaN</td>\n",
       "      <td>NaN</td>\n",
       "      <td>NaN</td>\n",
       "      <td>NaN</td>\n",
       "      <td>L</td>\n",
       "      <td>1</td>\n",
       "      <td>None</td>\n",
       "      <td>None</td>\n",
       "    </tr>\n",
       "    <tr>\n",
       "      <th>2</th>\n",
       "      <td>3</td>\n",
       "      <td>1</td>\n",
       "      <td>bicton banter lords</td>\n",
       "      <td>15.0</td>\n",
       "      <td>5.0</td>\n",
       "      <td>morley puck troopers</td>\n",
       "      <td>NaN</td>\n",
       "      <td>Y</td>\n",
       "      <td>W</td>\n",
       "      <td>NaN</td>\n",
       "      <td>NaN</td>\n",
       "      <td>NaN</td>\n",
       "      <td>NaN</td>\n",
       "      <td>NaN</td>\n",
       "      <td>NaN</td>\n",
       "      <td>L</td>\n",
       "      <td>1</td>\n",
       "      <td>None</td>\n",
       "      <td>None</td>\n",
       "    </tr>\n",
       "    <tr>\n",
       "      <th>3</th>\n",
       "      <td>5</td>\n",
       "      <td>1</td>\n",
       "      <td>greenmount doom</td>\n",
       "      <td>17.0</td>\n",
       "      <td>7.0</td>\n",
       "      <td>bayswater croquet club</td>\n",
       "      <td>NaN</td>\n",
       "      <td>Y</td>\n",
       "      <td>W</td>\n",
       "      <td>NaN</td>\n",
       "      <td>NaN</td>\n",
       "      <td>NaN</td>\n",
       "      <td>NaN</td>\n",
       "      <td>NaN</td>\n",
       "      <td>NaN</td>\n",
       "      <td>L</td>\n",
       "      <td>1</td>\n",
       "      <td>None</td>\n",
       "      <td>None</td>\n",
       "    </tr>\n",
       "    <tr>\n",
       "      <th>4</th>\n",
       "      <td>6</td>\n",
       "      <td>1</td>\n",
       "      <td>swan view draught</td>\n",
       "      <td>7.0</td>\n",
       "      <td>5.0</td>\n",
       "      <td>morley flying hellfish</td>\n",
       "      <td>NaN</td>\n",
       "      <td>Y</td>\n",
       "      <td>W</td>\n",
       "      <td>NaN</td>\n",
       "      <td>NaN</td>\n",
       "      <td>NaN</td>\n",
       "      <td>NaN</td>\n",
       "      <td>NaN</td>\n",
       "      <td>NaN</td>\n",
       "      <td>L</td>\n",
       "      <td>1</td>\n",
       "      <td>None</td>\n",
       "      <td>None</td>\n",
       "    </tr>\n",
       "  </tbody>\n",
       "</table>\n",
       "</div>"
      ],
      "text/plain": [
       "   index ROUND                      HOME  SCORE  SCORE.1  \\\n",
       "0      0     1  the swanbourne supremacy   14.0     12.0   \n",
       "1      2     1       belmontgomery burns   12.0      7.0   \n",
       "2      3     1       bicton banter lords   15.0      5.0   \n",
       "3      5     1           greenmount doom   17.0      7.0   \n",
       "4      6     1         swan view draught    7.0      5.0   \n",
       "\n",
       "                     AWAY   OT Validate H_Win A_Win H_Tie A_Tie H_OTL A_OTL  \\\n",
       "0        balcatta bandits  NaN        Y     W   NaN   NaN   NaN   NaN   NaN   \n",
       "1  c montgomery cockburns  NaN        Y     W   NaN   NaN   NaN   NaN   NaN   \n",
       "2    morley puck troopers  NaN        Y     W   NaN   NaN   NaN   NaN   NaN   \n",
       "3  bayswater croquet club  NaN        Y     W   NaN   NaN   NaN   NaN   NaN   \n",
       "4  morley flying hellfish  NaN        Y     W   NaN   NaN   NaN   NaN   NaN   \n",
       "\n",
       "  H_Loss A_Loss  Round_number Home Elo Away Elo  \n",
       "0    NaN      L             1     None     None  \n",
       "1    NaN      L             1     None     None  \n",
       "2    NaN      L             1     None     None  \n",
       "3    NaN      L             1     None     None  \n",
       "4    NaN      L             1     None     None  "
      ]
     },
     "execution_count": 130,
     "metadata": {},
     "output_type": "execute_result"
    }
   ],
   "source": [
    "results.head()"
   ]
  },
  {
   "cell_type": "code",
   "execution_count": 131,
   "metadata": {
    "collapsed": false
   },
   "outputs": [],
   "source": [
    "# Create a dict of team starting elos\n",
    "team_elos = elos_start_raw\n",
    "team_elos['2016b Teams lower'] = elos_start_raw['2016b Teams'].apply(removepunct)\n",
    "elos_dict = dict(zip(team_elos['2016b Teams lower'],team_elos['Starting Elo']))\n",
    "\n",
    "for row in range(0,len(results)):\n",
    "\n",
    "    # Get the home and away teams\n",
    "    hometeam = results['HOME'][row]\n",
    "    awayteam = results['AWAY'][row]\n",
    "\n",
    "\n",
    "    # Get the elos from the elo dictionary\n",
    "    awayElo = elos_dict[awayteam]\n",
    "    homeElo = elos_dict[hometeam]\n",
    "    # Write to the df\n",
    "    results.loc[row,'Home Elo'] = homeElo\n",
    "    results.loc[row,'Away Elo'] = awayElo\n",
    "        \n",
    "\n",
    "    # Get the team K factors\n",
    "    homeK = team_K_factors[hometeam]\n",
    "    awayK = team_K_factors[awayteam]\n",
    "\n",
    "    # Calculate the Score Expectancies\n",
    "    homeSE = 1 / (1 + 10 ** -((homeElo - awayElo) / 400))\n",
    "    awaySE = 1 / (1 + 10 ** ((homeElo - awayElo) / 400))\n",
    "    # Write to DF\n",
    "    results.loc[row,'Home Predicted Result'] = homeSE\n",
    "    results.loc[row,'Away Predicted Result'] = awaySE\n",
    "\n",
    "\n",
    "    # Get home, away and total scores\n",
    "    homescore = results['SCORE'][row]\n",
    "    awayscore = results['SCORE.1'][row]\n",
    "    totalscore = homescore+awayscore\n",
    "\n",
    "    # Calculate home and away score percentages\n",
    "    homeScorePerc = homescore / totalscore\n",
    "    awayScorePerc = awayscore / totalscore\n",
    "    # Write to DF\n",
    "    results.loc[row,'Home Actual Result'] = homeScorePerc\n",
    "    results.loc[row,'Away Actual Result'] = awayScorePerc\n",
    "   \n",
    "    # Find Elo Changes\n",
    "    homeNewElo = homeElo + homeK * (homeScorePerc - homeSE)\n",
    "    awayNewElo = awayElo + awayK * (awayScorePerc - awaySE)\n",
    "\n",
    "    # Check to ensure winning teams don't lose Elo\n",
    "    if homescore > awayscore:\n",
    "        homeNewElo = max(homeNewElo,homeElo)\n",
    "    if awayscore > homescore:\n",
    "        awayNewElo = max(awayNewElo,awayElo)\n",
    " \n",
    "    newElos = {hometeam:homeNewElo, awayteam:awayNewElo}\n",
    "\n",
    "    elos_dict.update(newElos)"
   ]
  },
  {
   "cell_type": "code",
   "execution_count": 132,
   "metadata": {
    "collapsed": false
   },
   "outputs": [],
   "source": [
    "hometeams = set(results['HOME'].unique())\n",
    "awayteams = set(results['AWAY'].unique())\n",
    "teams = hometeams | awayteams"
   ]
  },
  {
   "cell_type": "code",
   "execution_count": 133,
   "metadata": {
    "collapsed": false
   },
   "outputs": [
    {
     "name": "stdout",
     "output_type": "stream",
     "text": [
      "all hometeams in teams? True\n",
      "all awayteams in teams? True\n"
     ]
    }
   ],
   "source": [
    "print \"all hometeams in teams?\",hometeams.issubset(teams)\n",
    "print \"all awayteams in teams?\",awayteams.issubset(teams)"
   ]
  },
  {
   "cell_type": "code",
   "execution_count": 143,
   "metadata": {
    "collapsed": false
   },
   "outputs": [],
   "source": [
    "def getscoreprogression(team):\n",
    "    progress = []\n",
    "    team = unicode(team)\n",
    "    if team in teams:\n",
    "        progress = results[results['HOME']==team]\n",
    "        progress = progress.append(results[results['AWAY']==team])\n",
    "        progress.sort_values('Round_number',inplace=True)\n",
    "        progress.reset_index(inplace=True)\n",
    "    else:\n",
    "        out = None\n",
    "    if len(progress)>0:\n",
    "        out = []\n",
    "        for row in range(0,len(progress)):\n",
    "            if progress.loc[row,'HOME'] == team:\n",
    "                roundno = progress.loc[row,'Round_number']\n",
    "                if type(roundno) == str:\n",
    "                    roundno = parse_round(roundno)\n",
    "                out.append((progress.loc[row,'Round_number'],progress.loc[row,'Home Elo']))\n",
    "            if progress.loc[row,'AWAY'] == team:\n",
    "                roundno = progress.loc[row,'Round_number']\n",
    "                if type(roundno) == str:\n",
    "                    roundno = parse_round(roundno)\n",
    "                out.append((roundno,progress.loc[row,'Away Elo']))\n",
    "    return out"
   ]
  },
  {
   "cell_type": "code",
   "execution_count": 144,
   "metadata": {
    "collapsed": false
   },
   "outputs": [
    {
     "data": {
      "text/plain": [
       "[(1, 585.58014810000009),\n",
       " (2, 586.66017060062006),\n",
       " (3, 606.16571449908554),\n",
       " (4, 601.20708608741631),\n",
       " (5, 615.18911702470643),\n",
       " (6, 618.32379907906443)]"
      ]
     },
     "execution_count": 144,
     "metadata": {},
     "output_type": "execute_result"
    }
   ],
   "source": [
    "getscoreprogression('harambaeyswater')"
   ]
  },
  {
   "cell_type": "code",
   "execution_count": 145,
   "metadata": {
    "collapsed": true
   },
   "outputs": [],
   "source": [
    "def getresults(team):\n",
    "    progress = []\n",
    "    team = unicode(team)\n",
    "    if team in teams:\n",
    "        progress = results[results['HOME']==team]\n",
    "        progress = progress.append(results[results['AWAY']==team])\n",
    "        progress.sort_values('Round_number',inplace=True)\n",
    "        progress.reset_index(inplace=True)\n",
    "        out = progress\n",
    "    else:\n",
    "        out = None\n",
    "    \n",
    "    return out"
   ]
  },
  {
   "cell_type": "code",
   "execution_count": 146,
   "metadata": {
    "collapsed": false
   },
   "outputs": [],
   "source": [
    "getresults('harambaeyswater');"
   ]
  },
  {
   "cell_type": "code",
   "execution_count": 147,
   "metadata": {
    "collapsed": false
   },
   "outputs": [
    {
     "data": {
      "image/png": "[encoded data removed]",
      "text/plain": [
       "<matplotlib.figure.Figure at 0xb9baf60>"
      ]
     },
     "metadata": {},
     "output_type": "display_data"
    }
   ],
   "source": [
    "for team in teams:\n",
    "    if getscoreprogression(team) is not None:\n",
    "        plt.plot(getscoreprogression(team))\n"
   ]
  },
  {
   "cell_type": "code",
   "execution_count": 141,
   "metadata": {
    "collapsed": false
   },
   "outputs": [
    {
     "data": {
      "text/plain": [
       "9"
      ]
     },
     "execution_count": 141,
     "metadata": {},
     "output_type": "execute_result"
    }
   ],
   "source": [
    "parse_round('9-10 BYE')"
   ]
  },
  {
   "cell_type": "code",
   "execution_count": null,
   "metadata": {
    "collapsed": true
   },
   "outputs": [],
   "source": []
  }
 ],
 "metadata": {
  "anaconda-cloud": {},
  "kernelspec": {
   "display_name": "Python [Root]",
   "language": "python",
   "name": "Python [Root]"
  },
  "language_info": {
   "codemirror_mode": {
    "name": "ipython",
    "version": 2
   },
   "file_extension": ".py",
   "mimetype": "text/x-python",
   "name": "python",
   "nbconvert_exporter": "python",
   "pygments_lexer": "ipython2",
   "version": "2.7.12"
  },
  "notify_time": "5"
 },
 "nbformat": 4,
 "nbformat_minor": 0
}
